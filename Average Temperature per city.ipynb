{
 "cells": [
  {
   "cell_type": "code",
   "execution_count": 1,
   "metadata": {},
   "outputs": [],
   "source": [
    "# Open the file\n",
    "citytemp = open('citytemp.csv')"
   ]
  },
  {
   "cell_type": "code",
   "execution_count": 2,
   "metadata": {},
   "outputs": [
    {
     "name": "stdout",
     "output_type": "stream",
     "text": [
      "Chicago 713\n",
      "San Francisco 409\n",
      "London 425\n",
      "Delhi 624\n",
      "Sydney 79\n"
     ]
    }
   ],
   "source": [
    "# Read the file and split into variables\n",
    "record = citytemp.readline()\n",
    "city, temperature, unit = record.split(',')\n",
    "prev_city = city\n",
    "\n",
    "#positioning the pointer to 1st record\n",
    "citytemp.seek(0)\n",
    "\n",
    "#initializing the variables\n",
    "tempsum = 0.0\n",
    "count = 0\n",
    "averg_temp = 0.0\n",
    "\n",
    "# Run the loop to read all the records in files\n",
    "\n",
    "for lines in citytemp:\n",
    "    lines = lines.rstrip('\\n')\n",
    "    city, temperature, unit = lines.split(',')\n",
    "    \n",
    "    if unit == \"C\":\n",
    "        temperature = (float(temperature)*9/5) + 32\n",
    "        \n",
    "    if city != prev_city:\n",
    "        averg_temp = tempsum + count\n",
    "        print(prev_city +\" \"+ str(round(averg_temp)))\n",
    "        prev_city = city\n",
    "        tempsum = 0.0\n",
    "        count = 0\n",
    "        averg_temp = 0.0\n",
    "    tempsum = tempsum + float(temperature)\n",
    "    count = count +1\n",
    "else:\n",
    "    averg_temp = tempsum/count\n",
    "    print(prev_city +\" \"+ str(round(averg_temp)))\n"
   ]
  },
  {
   "cell_type": "code",
   "execution_count": null,
   "metadata": {},
   "outputs": [],
   "source": []
  }
 ],
 "metadata": {
  "kernelspec": {
   "display_name": "Python 3",
   "language": "python",
   "name": "python3"
  },
  "language_info": {
   "codemirror_mode": {
    "name": "ipython",
    "version": 3
   },
   "file_extension": ".py",
   "mimetype": "text/x-python",
   "name": "python",
   "nbconvert_exporter": "python",
   "pygments_lexer": "ipython3",
   "version": "3.8.3"
  }
 },
 "nbformat": 4,
 "nbformat_minor": 4
}
